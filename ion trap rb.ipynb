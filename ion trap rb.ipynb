{
 "cells": [
  {
   "cell_type": "code",
   "execution_count": 3,
   "metadata": {},
   "outputs": [
    {
     "data": {
      "text/html": [
       "<pre style=\"word-wrap: normal;white-space: pre;background: #fff0;line-height: 1.1;font-family: &quot;Courier New&quot;,Courier,monospace\">                        \n",
       "q_0: ──■─────────────■──\n",
       "     ┌─┴─┐┌───────┐┌─┴─┐\n",
       "q_1: ┤ X ├┤ Rz(π) ├┤ X ├\n",
       "     └───┘└───────┘└───┘\n",
       "q_2: ───────────────────\n",
       "                        \n",
       "q_3: ───────────────────\n",
       "                        \n",
       "q_4: ───────────────────\n",
       "                        \n",
       "q_5: ───────────────────\n",
       "                        \n",
       "q_6: ───────────────────\n",
       "                        </pre>"
      ],
      "text/plain": [
       "                        \n",
       "q_0: ──■─────────────■──\n",
       "     ┌─┴─┐┌───────┐┌─┴─┐\n",
       "q_1: ┤ X ├┤ Rz(π) ├┤ X ├\n",
       "     └───┘└───────┘└───┘\n",
       "q_2: ───────────────────\n",
       "                        \n",
       "q_3: ───────────────────\n",
       "                        \n",
       "q_4: ───────────────────\n",
       "                        \n",
       "q_5: ───────────────────\n",
       "                        \n",
       "q_6: ───────────────────\n",
       "                        "
      ]
     },
     "execution_count": 3,
     "metadata": {},
     "output_type": "execute_result"
    }
   ],
   "source": [
    "import numpy as np\n",
    "from qiskit import transpile, compiler, QuantumCircuit, QuantumRegister, ClassicalRegister, IBMQ, Aer\n",
    "from qiskit.providers.fake_provider import FakeNairobiV2\n",
    "n=7\n",
    "backend=FakeNairobiV2()\n",
    "qc=QuantumCircuit(2)\n",
    "qc.rzz(np.pi, 0,1)\n",
    "qc.decompose().draw()"
   ]
  },
  {
   "cell_type": "code",
   "execution_count": 8,
   "metadata": {},
   "outputs": [
    {
     "data": {
      "text/html": [
       "<pre style=\"word-wrap: normal;white-space: pre;background: #fff0;line-height: 1.1;font-family: &quot;Courier New&quot;,Courier,monospace\">          \n",
       "q_0: ──■──\n",
       "     ┌─┴─┐\n",
       "q_1: ┤ X ├\n",
       "     └───┘</pre>"
      ],
      "text/plain": [
       "          \n",
       "q_0: ──■──\n",
       "     ┌─┴─┐\n",
       "q_1: ┤ X ├\n",
       "     └───┘"
      ]
     },
     "execution_count": 8,
     "metadata": {},
     "output_type": "execute_result"
    }
   ],
   "source": [
    "qc=QuantumCircuit(2)\n",
    "qc.cx(0,1)\n",
    "qc.decompose().draw()"
   ]
  },
  {
   "cell_type": "code",
   "execution_count": null,
   "metadata": {},
   "outputs": [],
   "source": []
  }
 ],
 "metadata": {
  "kernelspec": {
   "display_name": "data_sci",
   "language": "python",
   "name": "python3"
  },
  "language_info": {
   "codemirror_mode": {
    "name": "ipython",
    "version": 3
   },
   "file_extension": ".py",
   "mimetype": "text/x-python",
   "name": "python",
   "nbconvert_exporter": "python",
   "pygments_lexer": "ipython3",
   "version": "3.10.4"
  },
  "orig_nbformat": 4
 },
 "nbformat": 4,
 "nbformat_minor": 2
}

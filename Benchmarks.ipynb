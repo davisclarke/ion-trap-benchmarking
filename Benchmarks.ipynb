{
 "cells": [
  {
   "cell_type": "code",
   "execution_count": 1,
   "metadata": {},
   "outputs": [
    {
     "name": "stderr",
     "output_type": "stream",
     "text": [
      "noise_model is not a known attribute of class <class 'azure.quantum._client.models._models_py3.JobDetails'> and will be ignored\n"
     ]
    },
    {
     "name": "stdout",
     "output_type": "stream",
     "text": [
      "........"
     ]
    },
    {
     "ename": "QiskitError",
     "evalue": "'No counts for experiment \"0\"'",
     "output_type": "error",
     "traceback": [
      "\u001b[1;31m---------------------------------------------------------------------------\u001b[0m",
      "\u001b[1;31mQiskitError\u001b[0m                               Traceback (most recent call last)",
      "Cell \u001b[1;32mIn[1], line 51\u001b[0m\n\u001b[0;32m     49\u001b[0m     qc\u001b[39m.\u001b[39mmeasure([ion_chain[control_qubit], ion_chain[x]], readout)\n\u001b[0;32m     50\u001b[0m     circuit \u001b[39m=\u001b[39m transpile(qc, backend)\n\u001b[1;32m---> 51\u001b[0m     counts\u001b[39m=\u001b[39mbackend\u001b[39m.\u001b[39;49mrun(circuit, noise_model\u001b[39m=\u001b[39;49mget_noise(\u001b[39m0.0018\u001b[39;49m,\u001b[39m0.004\u001b[39;49m, \u001b[39m0.027\u001b[39;49m))\u001b[39m.\u001b[39;49mresult()\u001b[39m.\u001b[39;49mget_counts()\n\u001b[0;32m     52\u001b[0m     errors\u001b[39m.\u001b[39mappend(counts)\n\u001b[0;32m     53\u001b[0m \u001b[39mdef\u001b[39;00m \u001b[39mget_error_rates\u001b[39m(error_list):\n",
      "File \u001b[1;32mc:\\ProgramData\\Anaconda3\\envs\\data_sci\\lib\\site-packages\\qiskit\\result\\result.py:289\u001b[0m, in \u001b[0;36mResult.get_counts\u001b[1;34m(self, experiment)\u001b[0m\n\u001b[0;32m    287\u001b[0m         dict_list\u001b[39m.\u001b[39mappend(statevector\u001b[39m.\u001b[39mStatevector(vec)\u001b[39m.\u001b[39mprobabilities_dict(decimals\u001b[39m=\u001b[39m\u001b[39m15\u001b[39m))\n\u001b[0;32m    288\u001b[0m     \u001b[39melse\u001b[39;00m:\n\u001b[1;32m--> 289\u001b[0m         \u001b[39mraise\u001b[39;00m QiskitError(\u001b[39mf\u001b[39m\u001b[39m'\u001b[39m\u001b[39mNo counts for experiment \u001b[39m\u001b[39m\"\u001b[39m\u001b[39m{\u001b[39;00m\u001b[39mrepr\u001b[39m(key)\u001b[39m}\u001b[39;00m\u001b[39m\"\u001b[39m\u001b[39m'\u001b[39m)\n\u001b[0;32m    291\u001b[0m \u001b[39m# Return first item of dict_list if size is 1\u001b[39;00m\n\u001b[0;32m    292\u001b[0m \u001b[39mif\u001b[39;00m \u001b[39mlen\u001b[39m(dict_list) \u001b[39m==\u001b[39m \u001b[39m1\u001b[39m:\n",
      "\u001b[1;31mQiskitError\u001b[0m: 'No counts for experiment \"0\"'"
     ]
    }
   ],
   "source": [
    "from qiskit_braket_provider import AWSBraketProvider\n",
    "from qiskit import *\n",
    "import numpy as np\n",
    "from qiskit.providers.fake_provider import FakeMumbaiV2\n",
    "from qiskit.quantum_info import random_unitary\n",
    "from qiskit.circuit.library import QuantumVolume\n",
    "from qiskit.providers.aer.noise import NoiseModel\n",
    "from qiskit.providers.aer.noise.errors import pauli_error, depolarizing_error\n",
    "from azure.quantum.qiskit import AzureQuantumProvider\n",
    "provider = AzureQuantumProvider(\n",
    "    resource_id=\"/subscriptions/6648b6bc-19eb-4d18-9855-d527b2cc7f29/resourceGroups/AzureQuantum/providers/Microsoft.Quantum/Workspaces/iontrap\",\n",
    "    location='East US'\n",
    ")\n",
    "#provider.get_backend('IonQ Device') \n",
    "\n",
    "QuantumVolume(2).decompose().decompose().decompose().draw(output='mpl')\n",
    "#np.random.seed(8122)\n",
    "\n",
    "def get_noise(p_meas,p_gate, p_gate2):\n",
    "\n",
    "    error_meas = pauli_error([('X',p_meas), ('I', 1 - p_meas)])\n",
    "    error_gate1 = depolarizing_error(p_gate, 1)\n",
    "    error_gate2 = error_gate1.tensor(depolarizing_error(p_gate2, 1))\n",
    "\n",
    "    noise_model = NoiseModel()\n",
    "    noise_model.add_all_qubit_quantum_error(error_meas, \"measure\") # measurement error is applied to measurements\n",
    "    noise_model.add_all_qubit_quantum_error(error_gate1, [\"x\"]) # single qubit gate error is applied to x gates\n",
    "    noise_model.add_all_qubit_quantum_error(error_gate2, [\"cx\"]) # two qubit gate error is applied to cx gates\n",
    "        \n",
    "    return noise_model\n",
    "\n",
    "SHOTS=1024\n",
    "num_qubits = 11\n",
    "control_qubit = 10\n",
    "\n",
    "ion_chain=QuantumRegister(num_qubits)\n",
    "readout=ClassicalRegister(2)\n",
    "qc=QuantumCircuit(ion_chain, readout)\n",
    "errors=[]\n",
    "backend=provider.get_backend('microsoft.estimator')\n",
    "init_vector = np.zeros(2**num_qubits)\n",
    "init_vector[0] = 1\n",
    "\n",
    "from qiskit import transpile\n",
    "for x in range(num_qubits-1):\n",
    "    qc.initialize(init_vector)\n",
    "    qc.x(control_qubit)\n",
    "    qc.cx(control_qubit,x)\n",
    "    qc.measure([ion_chain[control_qubit], ion_chain[x]], readout)\n",
    "    #circuit = transpile(qc, backend)\n",
    "    counts=backend.run(qc, noise_model=get_noise(0.0018,0.004, 0.027)).result().get_counts()\n",
    "    errors.append(counts)\n",
    "def get_error_rates(error_list):\n",
    "    return [1-(errors[i]['11']/SHOTS) for i in range(len(error_list))]\n",
    "    \n",
    "get_error_rates(errors)"
   ]
  },
  {
   "cell_type": "code",
   "execution_count": null,
   "metadata": {},
   "outputs": [],
   "source": [
    "5126/(SHOTS*(num_qubits-1))"
   ]
  },
  {
   "cell_type": "code",
   "execution_count": null,
   "metadata": {},
   "outputs": [],
   "source": [
    "(SHOTS*(num_qubits-1))//10"
   ]
  },
  {
   "cell_type": "code",
   "execution_count": null,
   "metadata": {},
   "outputs": [],
   "source": [
    "qc=QuantumCircuit(2)\n",
    "qc.initialize([1,0,0,0])\n",
    "qc.decompose().decompose().decompose().draw(output='mpl')"
   ]
  },
  {
   "cell_type": "code",
   "execution_count": null,
   "metadata": {},
   "outputs": [],
   "source": [
    "errors={}\n",
    "counts\n",
    "errors.update({str(0) : counts})"
   ]
  },
  {
   "cell_type": "code",
   "execution_count": null,
   "metadata": {},
   "outputs": [],
   "source": []
  }
 ],
 "metadata": {
  "kernelspec": {
   "display_name": "data_sci",
   "language": "python",
   "name": "python3"
  },
  "language_info": {
   "codemirror_mode": {
    "name": "ipython",
    "version": 3
   },
   "file_extension": ".py",
   "mimetype": "text/x-python",
   "name": "python",
   "nbconvert_exporter": "python",
   "pygments_lexer": "ipython3",
   "version": "3.10.4 | packaged by conda-forge | (main, Mar 30 2022, 08:38:02) [MSC v.1916 64 bit (AMD64)]"
  },
  "orig_nbformat": 4,
  "vscode": {
   "interpreter": {
    "hash": "d63963d85136318b9f49e6cdc246fa710d8d44bb87bdde67353211b53794eecd"
   }
  }
 },
 "nbformat": 4,
 "nbformat_minor": 2
}
